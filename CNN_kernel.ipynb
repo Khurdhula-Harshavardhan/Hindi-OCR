{
 "cells": [
  {
   "cell_type": "markdown",
   "metadata": {},
   "source": [
    "This notebook fits a Convolutional Neural Network inorder to detect Hindi characters."
   ]
  },
  {
   "cell_type": "markdown",
   "metadata": {},
   "source": [
    "    Let's import the necessary modules:"
   ]
  },
  {
   "cell_type": "code",
   "execution_count": null,
   "metadata": {},
   "outputs": [],
   "source": [
    "from keras.preprocessing.image import ImageDataGenerator\n",
    "\n",
    "#set up the test, train directories:\n",
    "train_dir = \"datasets/DevanagariHandwrittenCharacterDataset/Train\"\n",
    "test_dir = \"datasets/DevanagariHandwrittenCharacterDataset/Test\""
   ]
  }
 ],
 "metadata": {
  "language_info": {
   "name": "python"
  }
 },
 "nbformat": 4,
 "nbformat_minor": 2
}
