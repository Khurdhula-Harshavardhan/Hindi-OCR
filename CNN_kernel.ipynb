{
 "cells": [
  {
   "cell_type": "markdown",
   "metadata": {},
   "source": [
    "This notebook fits a Convolutional Neural Network inorder to detect Hindi characters."
   ]
  },
  {
   "cell_type": "markdown",
   "metadata": {},
   "source": [
    "    Let's import the necessary modules:"
   ]
  },
  {
   "cell_type": "code",
   "execution_count": 8,
   "metadata": {},
   "outputs": [],
   "source": [
    "from keras.preprocessing.image import ImageDataGenerator\n",
    "from keras.models import Sequential\n",
    "from keras.layers import Conv2D, MaxPooling2D, Flatten, Dense\n",
    "import matplotlib.pyplot as plt\n",
    "\n",
    "\n",
    "#set up the test, train directories:\n",
    "train_dir = \"datasets/DevanagariHandwrittenCharacterDataset/Train\"\n",
    "test_dir = \"datasets/DevanagariHandwrittenCharacterDataset/Test\""
   ]
  },
  {
   "cell_type": "markdown",
   "metadata": {},
   "source": [
    "Let's try data augmentation:\n"
   ]
  },
  {
   "cell_type": "code",
   "execution_count": 2,
   "metadata": {},
   "outputs": [],
   "source": [
    "train_datagen = ImageDataGenerator(\n",
    "    rescale=1./255,\n",
    "    rotation_range=40,\n",
    "    width_shift_range=0.2,\n",
    "    height_shift_range=0.2,\n",
    "    shear_range=0.2,\n",
    "    zoom_range=0.2,\n",
    "    horizontal_flip=True,\n",
    "    fill_mode='nearest'\n",
    ")\n",
    "\n",
    "test_datagen = ImageDataGenerator(rescale=1./255)"
   ]
  },
  {
   "cell_type": "markdown",
   "metadata": {},
   "source": [
    "    Generating the data for testing and training:"
   ]
  },
  {
   "cell_type": "code",
   "execution_count": 3,
   "metadata": {},
   "outputs": [
    {
     "name": "stdout",
     "output_type": "stream",
     "text": [
      "Found 78200 images belonging to 46 classes.\n",
      "Found 13800 images belonging to 46 classes.\n"
     ]
    }
   ],
   "source": [
    "train_generator = train_datagen.flow_from_directory(\n",
    "    train_dir,\n",
    "    target_size=(32, 32),\n",
    "    batch_size=128,\n",
    "    class_mode='categorical'\n",
    ")\n",
    "\n",
    "test_generator = test_datagen.flow_from_directory(\n",
    "    test_dir,\n",
    "    target_size=(32, 32),\n",
    "    batch_size=128,\n",
    "    class_mode='categorical'\n",
    ")\n"
   ]
  },
  {
   "cell_type": "markdown",
   "metadata": {},
   "source": [
    "    Defining the CNN's architecture:"
   ]
  },
  {
   "cell_type": "code",
   "execution_count": 5,
   "metadata": {},
   "outputs": [],
   "source": [
    "model = Sequential([\n",
    "    Conv2D(32, (3, 3), activation='relu', input_shape=(32, 32, 3)),\n",
    "    MaxPooling2D(2, 2),\n",
    "    Conv2D(64, (3, 3), activation='relu'),\n",
    "    MaxPooling2D(2, 2),\n",
    "    Flatten(),\n",
    "    Dense(128, activation='relu'),\n",
    "    Dense(46, activation='softmax')  \n",
    "])"
   ]
  },
  {
   "cell_type": "markdown",
   "metadata": {},
   "source": [
    "    Configuring the CNN:\n",
    "    "
   ]
  },
  {
   "cell_type": "code",
   "execution_count": 6,
   "metadata": {},
   "outputs": [],
   "source": [
    "model.compile(optimizer='adam', \n",
    "              loss='categorical_crossentropy', \n",
    "              metrics=['accuracy'])"
   ]
  },
  {
   "cell_type": "markdown",
   "metadata": {},
   "source": [
    "    Fit the CNN:"
   ]
  },
  {
   "cell_type": "code",
   "execution_count": 7,
   "metadata": {},
   "outputs": [
    {
     "name": "stdout",
     "output_type": "stream",
     "text": [
      "Epoch 1/20\n",
      "610/610 [==============================] - 53s 86ms/step - loss: 2.9047 - accuracy: 0.2283 - val_loss: 1.3518 - val_accuracy: 0.6094\n",
      "Epoch 2/20\n",
      "610/610 [==============================] - 55s 90ms/step - loss: 1.9935 - accuracy: 0.4435 - val_loss: 0.8768 - val_accuracy: 0.7434\n",
      "Epoch 3/20\n",
      "610/610 [==============================] - 55s 90ms/step - loss: 1.6100 - accuracy: 0.5419 - val_loss: 0.7952 - val_accuracy: 0.7569\n",
      "Epoch 4/20\n",
      "610/610 [==============================] - 54s 88ms/step - loss: 1.3999 - accuracy: 0.5988 - val_loss: 0.7688 - val_accuracy: 0.7646\n",
      "Epoch 5/20\n",
      "610/610 [==============================] - 54s 89ms/step - loss: 1.2495 - accuracy: 0.6386 - val_loss: 0.5884 - val_accuracy: 0.8215\n",
      "Epoch 6/20\n",
      "610/610 [==============================] - 54s 89ms/step - loss: 1.1419 - accuracy: 0.6658 - val_loss: 0.5189 - val_accuracy: 0.8402\n",
      "Epoch 7/20\n",
      "610/610 [==============================] - 54s 89ms/step - loss: 1.0750 - accuracy: 0.6853 - val_loss: 0.4879 - val_accuracy: 0.8519\n",
      "Epoch 8/20\n",
      "610/610 [==============================] - 56s 92ms/step - loss: 1.0117 - accuracy: 0.7031 - val_loss: 0.4254 - val_accuracy: 0.8733\n",
      "Epoch 9/20\n",
      "610/610 [==============================] - 56s 91ms/step - loss: 0.9578 - accuracy: 0.7165 - val_loss: 0.4869 - val_accuracy: 0.8492\n",
      "Epoch 10/20\n",
      "610/610 [==============================] - 55s 90ms/step - loss: 0.9171 - accuracy: 0.7288 - val_loss: 0.5024 - val_accuracy: 0.8407\n",
      "Epoch 11/20\n",
      "610/610 [==============================] - 55s 90ms/step - loss: 0.8752 - accuracy: 0.7411 - val_loss: 0.3865 - val_accuracy: 0.8815\n",
      "Epoch 12/20\n",
      "610/610 [==============================] - 55s 90ms/step - loss: 0.8503 - accuracy: 0.7462 - val_loss: 0.3597 - val_accuracy: 0.8895\n",
      "Epoch 13/20\n",
      "610/610 [==============================] - 55s 90ms/step - loss: 0.8183 - accuracy: 0.7570 - val_loss: 0.3117 - val_accuracy: 0.9013\n",
      "Epoch 14/20\n",
      "610/610 [==============================] - 55s 90ms/step - loss: 0.7919 - accuracy: 0.7640 - val_loss: 0.3208 - val_accuracy: 0.8988\n",
      "Epoch 15/20\n",
      "610/610 [==============================] - 56s 91ms/step - loss: 0.7635 - accuracy: 0.7690 - val_loss: 0.3357 - val_accuracy: 0.8952\n",
      "Epoch 16/20\n",
      "610/610 [==============================] - 55s 90ms/step - loss: 0.7440 - accuracy: 0.7772 - val_loss: 0.3253 - val_accuracy: 0.8994\n",
      "Epoch 17/20\n",
      "610/610 [==============================] - 55s 90ms/step - loss: 0.7280 - accuracy: 0.7820 - val_loss: 0.2940 - val_accuracy: 0.9071\n",
      "Epoch 18/20\n",
      "610/610 [==============================] - 55s 90ms/step - loss: 0.7099 - accuracy: 0.7856 - val_loss: 0.2883 - val_accuracy: 0.9136\n",
      "Epoch 19/20\n",
      "610/610 [==============================] - 55s 90ms/step - loss: 0.6893 - accuracy: 0.7929 - val_loss: 0.2782 - val_accuracy: 0.9111\n",
      "Epoch 20/20\n",
      "610/610 [==============================] - 55s 90ms/step - loss: 0.6762 - accuracy: 0.7962 - val_loss: 0.2746 - val_accuracy: 0.9136\n"
     ]
    }
   ],
   "source": [
    "history = model.fit(\n",
    "    train_generator,\n",
    "    steps_per_epoch=train_generator.samples // 128,  \n",
    "    epochs=20,\n",
    "    validation_data=test_generator,\n",
    "    validation_steps=test_generator.samples // 128\n",
    ")"
   ]
  },
  {
   "cell_type": "markdown",
   "metadata": {},
   "source": [
    "    Let's look at our model's performance:"
   ]
  },
  {
   "cell_type": "code",
   "execution_count": 9,
   "metadata": {},
   "outputs": [],
   "source": [
    "acc = history.history['accuracy']\n",
    "val_acc = history.history['val_accuracy']\n",
    "loss = history.history['loss']\n",
    "val_loss = history.history['val_loss']"
   ]
  },
  {
   "cell_type": "code",
   "execution_count": null,
   "metadata": {},
   "outputs": [],
   "source": []
  }
 ],
 "metadata": {
  "kernelspec": {
   "display_name": "Python 3",
   "language": "python",
   "name": "python3"
  },
  "language_info": {
   "codemirror_mode": {
    "name": "ipython",
    "version": 3
   },
   "file_extension": ".py",
   "mimetype": "text/x-python",
   "name": "python",
   "nbconvert_exporter": "python",
   "pygments_lexer": "ipython3",
   "version": "3.11.1"
  }
 },
 "nbformat": 4,
 "nbformat_minor": 2
}
