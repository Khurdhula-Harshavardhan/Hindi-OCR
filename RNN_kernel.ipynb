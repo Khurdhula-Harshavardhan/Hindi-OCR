{
 "cells": [
  {
   "cell_type": "markdown",
   "metadata": {},
   "source": [
    "The following Notebook fits a RNN to recognize characters which are hand written in Hindi."
   ]
  },
  {
   "cell_type": "markdown",
   "metadata": {},
   "source": [
    "    Import the necessary modules:"
   ]
  },
  {
   "cell_type": "code",
   "execution_count": 1,
   "metadata": {},
   "outputs": [],
   "source": [
    "import numpy as np\n",
    "import tensorflow as tf\n",
    "from tensorflow.keras.models import Sequential\n",
    "from tensorflow.keras.layers import SimpleRNN, Dense, Reshape, Flatten\n",
    "\n",
    "from tensorflow.keras.preprocessing.image import ImageDataGenerator"
   ]
  },
  {
   "cell_type": "markdown",
   "metadata": {},
   "source": [
    "    Set constants and paths that we might use:"
   ]
  },
  {
   "cell_type": "code",
   "execution_count": 2,
   "metadata": {},
   "outputs": [],
   "source": [
    "TRAIN_DATA_DIR = '../Hindi-OCR/datasets/DevanagariHandwrittenCharacterDataset/Train/'\n",
    "VALIDATION_DATA_DIR = '../Hindi-OCR/datasets/DevanagariHandwrittenCharacterDataset/Test/'\n",
    "IMAGE_SIZE = (32, 32)\n",
    "BATCH_SIZE = 128\n",
    "NUM_CLASSES = 46"
   ]
  },
  {
   "cell_type": "markdown",
   "metadata": {},
   "source": [
    "    Load the images using ImageDataGenerator:"
   ]
  },
  {
   "cell_type": "code",
   "execution_count": 3,
   "metadata": {},
   "outputs": [],
   "source": [
    "train_datagen = ImageDataGenerator(rescale=1./255)\n",
    "validation_datagen = ImageDataGenerator(rescale=1./255)"
   ]
  },
  {
   "cell_type": "markdown",
   "metadata": {},
   "source": [
    "    Let's preprocess the images and perform aug..:"
   ]
  },
  {
   "cell_type": "code",
   "execution_count": 4,
   "metadata": {},
   "outputs": [
    {
     "name": "stdout",
     "output_type": "stream",
     "text": [
      "Found 78200 images belonging to 46 classes.\n",
      "Found 13800 images belonging to 46 classes.\n"
     ]
    }
   ],
   "source": [
    "train_generator = train_datagen.flow_from_directory(\n",
    "    TRAIN_DATA_DIR,\n",
    "    target_size=IMAGE_SIZE,\n",
    "    color_mode=\"grayscale\",\n",
    "    batch_size=BATCH_SIZE,\n",
    "    class_mode='categorical'\n",
    ")\n",
    "\n",
    "validation_generator = validation_datagen.flow_from_directory(\n",
    "    VALIDATION_DATA_DIR,\n",
    "    target_size=IMAGE_SIZE,\n",
    "    color_mode=\"grayscale\",\n",
    "    batch_size=BATCH_SIZE,\n",
    "    class_mode='categorical'\n",
    ")\n"
   ]
  },
  {
   "cell_type": "markdown",
   "metadata": {},
   "source": [
    "    Let's define the RNN architecture:"
   ]
  },
  {
   "cell_type": "code",
   "execution_count": 5,
   "metadata": {},
   "outputs": [],
   "source": [
    "\n",
    "model = Sequential()\n",
    "model.add(Reshape((32, 32), input_shape=(32, 32, 1)))\n",
    "model.add(SimpleRNN(128, activation='relu'))\n",
    "model.add(Flatten())\n",
    "model.add(Dense(NUM_CLASSES, activation='softmax'))"
   ]
  },
  {
   "cell_type": "markdown",
   "metadata": {},
   "source": [
    "    Congiure the RNN:"
   ]
  },
  {
   "cell_type": "code",
   "execution_count": 6,
   "metadata": {},
   "outputs": [
    {
     "name": "stdout",
     "output_type": "stream",
     "text": [
      "Model: \"sequential\"\n",
      "_________________________________________________________________\n",
      " Layer (type)                Output Shape              Param #   \n",
      "=================================================================\n",
      " reshape (Reshape)           (None, 32, 32)            0         \n",
      "                                                                 \n",
      " simple_rnn (SimpleRNN)      (None, 128)               20608     \n",
      "                                                                 \n",
      " flatten (Flatten)           (None, 128)               0         \n",
      "                                                                 \n",
      " dense (Dense)               (None, 46)                5934      \n",
      "                                                                 \n",
      "=================================================================\n",
      "Total params: 26542 (103.68 KB)\n",
      "Trainable params: 26542 (103.68 KB)\n",
      "Non-trainable params: 0 (0.00 Byte)\n",
      "_________________________________________________________________\n"
     ]
    }
   ],
   "source": [
    "model.compile(optimizer='adam', \n",
    "              loss='categorical_crossentropy', \n",
    "              metrics=['accuracy'])\n",
    "model.summary()"
   ]
  },
  {
   "cell_type": "markdown",
   "metadata": {},
   "source": [
    "    Fit the RNN:"
   ]
  },
  {
   "cell_type": "code",
   "execution_count": 7,
   "metadata": {},
   "outputs": [
    {
     "name": "stdout",
     "output_type": "stream",
     "text": [
      "Epoch 1/20\n",
      "611/611 [==============================] - 20s 31ms/step - loss: 2.1021 - accuracy: 0.4122 - val_loss: 1.4405 - val_accuracy: 0.5882\n",
      "Epoch 2/20\n",
      "611/611 [==============================] - 19s 32ms/step - loss: 1.1989 - accuracy: 0.6543 - val_loss: 0.9852 - val_accuracy: 0.7141\n",
      "Epoch 3/20\n",
      "611/611 [==============================] - 20s 32ms/step - loss: 0.9594 - accuracy: 0.7176 - val_loss: 0.8343 - val_accuracy: 0.7604\n",
      "Epoch 4/20\n",
      "611/611 [==============================] - 20s 32ms/step - loss: 0.8187 - accuracy: 0.7575 - val_loss: 0.8688 - val_accuracy: 0.7405\n",
      "Epoch 5/20\n",
      "611/611 [==============================] - 20s 32ms/step - loss: 0.7313 - accuracy: 0.7818 - val_loss: 0.6450 - val_accuracy: 0.8124\n",
      "Epoch 6/20\n",
      "611/611 [==============================] - 21s 34ms/step - loss: 0.6778 - accuracy: 0.7980 - val_loss: 0.6623 - val_accuracy: 0.8035\n",
      "Epoch 7/20\n",
      "611/611 [==============================] - 20s 33ms/step - loss: 0.6290 - accuracy: 0.8119 - val_loss: 0.5957 - val_accuracy: 0.8230\n",
      "Epoch 8/20\n",
      "611/611 [==============================] - 20s 32ms/step - loss: 0.5988 - accuracy: 0.8194 - val_loss: 0.5728 - val_accuracy: 0.8297\n",
      "Epoch 9/20\n",
      "611/611 [==============================] - 20s 32ms/step - loss: 0.5606 - accuracy: 0.8330 - val_loss: 0.6097 - val_accuracy: 0.8191\n",
      "Epoch 10/20\n",
      "611/611 [==============================] - 20s 32ms/step - loss: 0.5392 - accuracy: 0.8387 - val_loss: 0.5217 - val_accuracy: 0.8430\n",
      "Epoch 11/20\n",
      "611/611 [==============================] - 21s 35ms/step - loss: 0.5030 - accuracy: 0.8485 - val_loss: 0.4998 - val_accuracy: 0.8576\n",
      "Epoch 12/20\n",
      "611/611 [==============================] - 21s 34ms/step - loss: 0.4873 - accuracy: 0.8530 - val_loss: 0.4979 - val_accuracy: 0.8518\n",
      "Epoch 13/20\n",
      "611/611 [==============================] - 20s 33ms/step - loss: 0.4772 - accuracy: 0.8571 - val_loss: 0.4886 - val_accuracy: 0.8564\n",
      "Epoch 14/20\n",
      "611/611 [==============================] - 20s 33ms/step - loss: 0.4678 - accuracy: 0.8579 - val_loss: 0.4744 - val_accuracy: 0.8580\n",
      "Epoch 15/20\n",
      "611/611 [==============================] - 20s 33ms/step - loss: 0.4419 - accuracy: 0.8669 - val_loss: 0.4702 - val_accuracy: 0.8634\n",
      "Epoch 16/20\n",
      "611/611 [==============================] - 21s 34ms/step - loss: 0.4330 - accuracy: 0.8692 - val_loss: 0.4958 - val_accuracy: 0.8569\n",
      "Epoch 17/20\n",
      "611/611 [==============================] - 20s 33ms/step - loss: 0.4228 - accuracy: 0.8731 - val_loss: 0.4733 - val_accuracy: 0.8601\n",
      "Epoch 18/20\n",
      "611/611 [==============================] - 20s 33ms/step - loss: 0.4097 - accuracy: 0.8765 - val_loss: 0.4329 - val_accuracy: 0.8717\n",
      "Epoch 19/20\n",
      "611/611 [==============================] - 20s 33ms/step - loss: 0.4069 - accuracy: 0.8776 - val_loss: 0.4474 - val_accuracy: 0.8682\n",
      "Epoch 20/20\n",
      "611/611 [==============================] - 20s 33ms/step - loss: 0.3858 - accuracy: 0.8834 - val_loss: 0.4520 - val_accuracy: 0.8736\n"
     ]
    }
   ],
   "source": [
    "history = model.fit(\n",
    "    train_generator,  \n",
    "    epochs=20,\n",
    "    validation_data=validation_generator\n",
    ")"
   ]
  },
  {
   "cell_type": "markdown",
   "metadata": {},
   "source": [
    "    Let's Visualize the RNN's performance:"
   ]
  },
  {
   "cell_type": "code",
   "execution_count": 8,
   "metadata": {},
   "outputs": [],
   "source": [
    "acc = history.history['accuracy']\n",
    "val_acc = history.history['val_accuracy']\n",
    "loss = history.history['loss']\n",
    "val_loss = history.history['val_loss']\n",
    "epochs = range(1, len(acc) + 1)"
   ]
  }
 ],
 "metadata": {
  "kernelspec": {
   "display_name": "Python 3",
   "language": "python",
   "name": "python3"
  },
  "language_info": {
   "codemirror_mode": {
    "name": "ipython",
    "version": 3
   },
   "file_extension": ".py",
   "mimetype": "text/x-python",
   "name": "python",
   "nbconvert_exporter": "python",
   "pygments_lexer": "ipython3",
   "version": "3.11.1"
  }
 },
 "nbformat": 4,
 "nbformat_minor": 2
}
